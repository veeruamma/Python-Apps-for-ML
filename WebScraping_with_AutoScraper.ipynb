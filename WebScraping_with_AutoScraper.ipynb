{
  "nbformat": 4,
  "nbformat_minor": 0,
  "metadata": {
    "colab": {
      "name": "WebScraping with AutoScraper.ipynb",
      "provenance": [],
      "mount_file_id": "1pJvnE9UKfJgPIqURGZfUpD2XxJfxbg2J",
      "authorship_tag": "ABX9TyOOx2ZrZWVUJzS39pAJHf0C",
      "include_colab_link": true
    },
    "kernelspec": {
      "name": "python3",
      "display_name": "Python 3"
    },
    "language_info": {
      "name": "python"
    }
  },
  "cells": [
    {
      "cell_type": "markdown",
      "metadata": {
        "id": "view-in-github",
        "colab_type": "text"
      },
      "source": [
        "<a href=\"https://colab.research.google.com/github/veeruamma/Python-Apps-for-ML/blob/main/WebScraping_with_AutoScraper.ipynb\" target=\"_parent\"><img src=\"https://colab.research.google.com/assets/colab-badge.svg\" alt=\"Open In Colab\"/></a>"
      ]
    },
    {
      "cell_type": "code",
      "metadata": {
        "colab": {
          "base_uri": "https://localhost:8080/"
        },
        "id": "UejIkj3AhWrl",
        "outputId": "3664dcb1-aad2-41e8-e908-f64045d22490"
      },
      "source": [
        "!pip install autoscraper"
      ],
      "execution_count": 1,
      "outputs": [
        {
          "output_type": "stream",
          "text": [
            "Collecting autoscraper\n",
            "  Downloading https://files.pythonhosted.org/packages/50/44/553afbb7624aaa16e71546196c1f3beb170dd555a2822785889a9da5c2e7/autoscraper-1.1.12-py3-none-any.whl\n",
            "Requirement already satisfied: lxml in /usr/local/lib/python3.7/dist-packages (from autoscraper) (4.2.6)\n",
            "Requirement already satisfied: bs4 in /usr/local/lib/python3.7/dist-packages (from autoscraper) (0.0.1)\n",
            "Requirement already satisfied: requests in /usr/local/lib/python3.7/dist-packages (from autoscraper) (2.23.0)\n",
            "Requirement already satisfied: beautifulsoup4 in /usr/local/lib/python3.7/dist-packages (from bs4->autoscraper) (4.6.3)\n",
            "Requirement already satisfied: idna<3,>=2.5 in /usr/local/lib/python3.7/dist-packages (from requests->autoscraper) (2.10)\n",
            "Requirement already satisfied: certifi>=2017.4.17 in /usr/local/lib/python3.7/dist-packages (from requests->autoscraper) (2020.12.5)\n",
            "Requirement already satisfied: chardet<4,>=3.0.2 in /usr/local/lib/python3.7/dist-packages (from requests->autoscraper) (3.0.4)\n",
            "Requirement already satisfied: urllib3!=1.25.0,!=1.25.1,<1.26,>=1.21.1 in /usr/local/lib/python3.7/dist-packages (from requests->autoscraper) (1.24.3)\n",
            "Installing collected packages: autoscraper\n",
            "Successfully installed autoscraper-1.1.12\n"
          ],
          "name": "stdout"
        }
      ]
    },
    {
      "cell_type": "code",
      "metadata": {
        "id": "9mOYLwibhw4d"
      },
      "source": [
        "from autoscraper import AutoScraper"
      ],
      "execution_count": 2,
      "outputs": []
    },
    {
      "cell_type": "code",
      "metadata": {
        "id": "6c8KL1Wth1Kr"
      },
      "source": [
        "amazon_url = \"https://www.amazon.in/s?k=headphones\""
      ],
      "execution_count": 4,
      "outputs": []
    },
    {
      "cell_type": "code",
      "metadata": {
        "id": "IDo9NJtfiGt6"
      },
      "source": [
        "#information that needs to scrape\n",
        "wanted_list = [\"499\", \"Boult Audio Bass Buds Q2 Over-Ear Wired Lightweight Stereo Headphones, Deep Bass & in-Built Mic, Headset with Comfortable Ear Cushions, Long Cord (Black)\",\n",
        "               \"2,055\"]"
      ],
      "execution_count": 5,
      "outputs": []
    },
    {
      "cell_type": "code",
      "metadata": {
        "id": "y9xniB31imX6"
      },
      "source": [
        "scraper = AutoScraper()\n",
        "\n",
        "result = scraper.build(amazon_url, wanted_list)"
      ],
      "execution_count": 8,
      "outputs": []
    },
    {
      "cell_type": "code",
      "metadata": {
        "colab": {
          "base_uri": "https://localhost:8080/"
        },
        "id": "NjwkjcqDjCns",
        "outputId": "3b46a190-9d90-4329-a000-b830db3f312d"
      },
      "source": [
        "print(result)"
      ],
      "execution_count": 9,
      "outputs": [
        {
          "output_type": "stream",
          "text": [
            "['674', '1,499', '499', '1,999', '1,599', '299', '860', '497', '249', '795', '899', '749', '649', 'boAt Bassheads 900 On Ear Wired Headphones(Carbon Black)', 'boAt Rockerz 450 Bluetooth On-Ear Headphone with Mic(Luscious Black)', 'Boult Audio Bass Buds Q2 Over-Ear Wired Lightweight Stereo Headphones, Deep Bass & in-Built Mic, Headset with Comfortable Ear Cushions, Long Cord (Black)', 'boAt Rockerz 550 Over-Ear Wireless Headphone with Ergonomic Aesthetics, Plush Padded Earcups, Immersive Audio, Bluetooth v5.0 & Upto 20H Playback (Black)', 'boAt Rockerz 510 Bluetooth On-Ear Headphone with Mic(Furious Blue)', 'iBall Kids Diva Wired Headphone with in line Volume Controller (Violet and Pink)', 'pTron Studio Over-Ear Bluetooth 5.0 Wireless Headphones, Hi-Fi Sound with Deep Bass, 12Hrs Playback, Ergonomic & Lightweight Wireless Headset, Soft Cushions Earpads, Aux Port & Mic - (Black)', 'iBall Kids Diva Kids Safe Wired Headphone with in line Volume Controller-Yellow and Light Blue', 'Lopina SH-12 Wireless Universal Bluetooth Headphone Headset with FM and SD Card Slot for Music and Calling Control (Black)', 'pTron Pride Lite HBE (High Bass Earphones) in-Ear Wired Headphones with in-line Mic, 10mm Powerful Driver for Stereo Audio, Noise Cancelling Headset with 1.2m Tangle-Free Cable & 3.5mm Aux - (Black)', 'boAt Bassheads 900 On Ear Wired Headphones(Pearl White)', 'pTron Studio Over-Ear Bluetooth 5.0 Wireless Headphones, Hi-Fi Sound with Deep Bass, 12Hrs Playback, Ergonomic & Lightweight Wireless Headset, Soft Cushions Earpads, Aux Port & Mic - (Blue)', 'Zebronics Zeb-Thunder Wireless BT Headphone Comes with 40mm Drivers, AUX Connectivity, Built in FM, Call Function, 9Hrs* Playback time and Supports Micro SD Card (Red)', 'JBL C100SI In-Ear Deep Bass Headphones with Mic (Black)', 'Spirili P-47 Portable Wireless Headphone with Bluetooth 4.2, Super Audio, Lightweight Design,FM, Aux, SD Card & Calling Control Supported Compatible with All Mobile Phones (Black)', 'Redgear Cloak Wired RGB Gaming Headphones with Microphone for PC', '33,709', '22,159', '2,055', '7,832', '30,426', '1,438', '2,679', '174', '2,167', '15,801', '106,510', '2,147']\n"
          ],
          "name": "stdout"
        }
      ]
    },
    {
      "cell_type": "code",
      "metadata": {
        "colab": {
          "base_uri": "https://localhost:8080/"
        },
        "id": "Z_IJdhsUjD3O",
        "outputId": "12c35b9b-abd6-41f1-8a09-93cb01acca5e"
      },
      "source": [
        "scraper.get_result_similar(amazon_url, grouped=True)"
      ],
      "execution_count": 11,
      "outputs": [
        {
          "output_type": "execute_result",
          "data": {
            "text/plain": [
              "{'rule_6zbt': ['33,709',\n",
              "  '2,055',\n",
              "  '22,159',\n",
              "  '1,438',\n",
              "  '2,679',\n",
              "  '2,167',\n",
              "  '106,510',\n",
              "  '2,147',\n",
              "  '2,679',\n",
              "  '15,801',\n",
              "  '10',\n",
              "  '30,426',\n",
              "  '7,832',\n",
              "  '1,443',\n",
              "  '26,394'],\n",
              " 'rule_o6v3': ['boAt Bassheads 900 On Ear Wired Headphones(Carbon Black)',\n",
              "  'Boult Audio Bass Buds Q2 Over-Ear Wired Lightweight Stereo Headphones, Deep Bass & in-Built Mic, Headset with Comfortable Ear Cushions, Long Cord (Black)',\n",
              "  'boAt Rockerz 450 Bluetooth On-Ear Headphone with Mic(Luscious Black)',\n",
              "  'iBall Kids Diva Wired Headphone with in line Volume Controller (Violet and Pink)',\n",
              "  'pTron Studio Over-Ear Bluetooth 5.0 Wireless Headphones, Hi-Fi Sound with Deep Bass, 12Hrs Playback, Ergonomic & Lightweight Wireless Headset, Soft Cushions Earpads, Aux Port & Mic - (Black)',\n",
              "  'pTron Pride Lite HBE (High Bass Earphones) in-Ear Wired Headphones with in-line Mic, 10mm Powerful Driver for Stereo Audio, Noise Cancelling Headset with 1.2m Tangle-Free Cable & 3.5mm Aux - (Black)',\n",
              "  'JBL C100SI In-Ear Deep Bass Headphones with Mic (Black)',\n",
              "  'Redgear Cloak Wired RGB Gaming Headphones with Microphone for PC',\n",
              "  'pTron Studio Over-Ear Bluetooth 5.0 Wireless Headphones, Hi-Fi Sound with Deep Bass, 12Hrs Playback, Ergonomic & Lightweight Wireless Headset, Soft Cushions Earpads, Aux Port & Mic - (Blue)',\n",
              "  'Zebronics Zeb-Thunder Wireless BT Headphone Comes with 40mm Drivers, AUX Connectivity, Built in FM, Call Function, 9Hrs* Playback time and Supports Micro SD Card (Red)',\n",
              "  'Wireless Bluetooth Headphones Earphone Bluetooth Wireless Neckband Flexible in-Ear Headphones Headset with Mic, Extra Deep Bass Hands-Free Call/Music, Sports Earbuds, Sweat Proof (Black)',\n",
              "  'Spirili P-47 Portable Wireless Headphone with Bluetooth 4.2, Super Audio, Lightweight Design,FM, Aux, SD Card & Calling Control Supported Compatible with All Mobile Phones (Black)',\n",
              "  'boAt Rockerz 510 Bluetooth On-Ear Headphone with Mic(Furious Blue)',\n",
              "  'boAt Rockerz 550 Over-Ear Wireless Headphone with Ergonomic Aesthetics, Plush Padded Earcups, Immersive Audio, Bluetooth v5.0 & Upto 20H Playback (Black)',\n",
              "  'Cosmic Byte GS430 Gaming Headphone, 7 Color RGB LED and Microphone for PC, PS5, Xbox, Mobiles, Tablets, Laptops (Black)',\n",
              "  'pTron Tangent Lite Bluetooth 5.0 Wireless Headphones with Hi-Fi Stereo Sound, 6Hrs Playtime, Lightweight Ergonomic Neckband, Sweat-Resistant Magnetic Earbuds, Voice Assistant & Mic - (Black)'],\n",
              " 'rule_yreu': ['674',\n",
              "  '499',\n",
              "  '1,499',\n",
              "  '299',\n",
              "  '860',\n",
              "  '249',\n",
              "  '649',\n",
              "  '899',\n",
              "  '899',\n",
              "  '749',\n",
              "  '499',\n",
              "  '499',\n",
              "  '1,599',\n",
              "  '1,999',\n",
              "  '849',\n",
              "  '649'],\n",
              " 'rule_zb8m': ['674',\n",
              "  '499',\n",
              "  '1,499',\n",
              "  '299',\n",
              "  '860',\n",
              "  '249',\n",
              "  '649',\n",
              "  '899',\n",
              "  '899',\n",
              "  '749',\n",
              "  '499',\n",
              "  '499',\n",
              "  '1,599',\n",
              "  '1,999',\n",
              "  '849',\n",
              "  '649']}"
            ]
          },
          "metadata": {
            "tags": []
          },
          "execution_count": 11
        }
      ]
    },
    {
      "cell_type": "code",
      "metadata": {
        "id": "Ma2UO1jljUGP"
      },
      "source": [
        ""
      ],
      "execution_count": null,
      "outputs": []
    }
  ]
}